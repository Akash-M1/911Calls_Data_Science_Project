{
 "cells": [
  {
   "cell_type": "code",
   "execution_count": 1,
   "id": "d7658023",
   "metadata": {},
   "outputs": [],
   "source": [
    "#Importing Required Modules\n",
    "import pandas as pd\n",
    "import numpy as np\n",
    "import matplotlib.pyplot as plt\n",
    "%matplotlib inline\n",
    "from datetime import datetime\n",
    "import seaborn as sns\n",
    "import folium as fo"
   ]
  },
  {
   "cell_type": "code",
   "execution_count": 2,
   "id": "74e4089d",
   "metadata": {},
   "outputs": [],
   "source": [
    "#Function to create DataFrame of Counts\n",
    "def count_df(uni,df,fun):\n",
    "    ind=0\n",
    "    for i in uni:\n",
    "        df.loc[ind]=i,fun(i)\n",
    "        ind+=1"
   ]
  },
  {
   "cell_type": "code",
   "execution_count": 3,
   "id": "c1a629ae",
   "metadata": {},
   "outputs": [],
   "source": [
    "#Reading the Provided DataSets\n",
    "calls=pd.read_csv(\"911Calls.csv\")"
   ]
  },
  {
   "cell_type": "code",
   "execution_count": 4,
   "id": "5e6f245d",
   "metadata": {},
   "outputs": [],
   "source": [
    "#Compute--What are the top 10 Zipcodes for 911\n",
    "zips=calls[\"zip\"].unique()\n",
    "count=lambda n:calls[calls[\"zip\"]==n].shape[0]\n",
    "countzip=pd.DataFrame(columns=(\"zip\",\"count\"))\n",
    "count_df(zips,countzip,count)\n",
    "countzip=countzip.sort_values(by=\"count\",ascending=False)\n",
    "top10=countzip.head(10)\n",
    "top10.index=np.arange(1,11)"
   ]
  },
  {
   "cell_type": "code",
   "execution_count": 5,
   "id": "f8d0915c",
   "metadata": {},
   "outputs": [
    {
     "name": "stdout",
     "output_type": "stream",
     "text": [
      "Top 10 ZipCode calls count\n",
      "\n",
      "        zip    count\n",
      "1   19401.0  18401.0\n",
      "2   19464.0  17937.0\n",
      "3   19403.0  13366.0\n",
      "4   19446.0  12828.0\n",
      "5   19406.0   8820.0\n",
      "6   19002.0   8367.0\n",
      "7   19468.0   7860.0\n",
      "8   19046.0   7340.0\n",
      "9   19454.0   7274.0\n",
      "10  19090.0   6999.0\n"
     ]
    }
   ],
   "source": [
    "print(\"Top 10 ZipCode calls count\")\n",
    "print()\n",
    "print(top10)\n",
    "#Question 1: Are Zipcodes 19446 and 19090 presents?\n",
    "#And: Yes we can see 19446(12828) and 19090(6999) in below top 10 zipcodes"
   ]
  },
  {
   "cell_type": "code",
   "execution_count": 6,
   "id": "0fcad4ef",
   "metadata": {},
   "outputs": [],
   "source": [
    "#Compute --What are the top 4 townships (twp) for 911 calls \n",
    "twps=calls.twp.unique()\n",
    "countwp=lambda n:calls[calls[\"twp\"]==n].shape[0]\n",
    "counttwdf=pd.DataFrame(columns=('Towns','Calls'))\n",
    "count_df(twps,counttwdf,countwp)\n",
    "counttwdf.sort_values(by=\"Calls\",ascending=False,inplace=True)\n",
    "top4twp=counttwdf.head(4)\n",
    "top4twp.index=np.arange(1,5)"
   ]
  },
  {
   "cell_type": "code",
   "execution_count": 7,
   "id": "a252ad1d",
   "metadata": {},
   "outputs": [
    {
     "name": "stdout",
     "output_type": "stream",
     "text": [
      "Top 4 Township calls\n",
      "\n",
      "          Towns  Calls\n",
      "1  LOWER MERION  22886\n",
      "2      ABINGTON  16379\n",
      "3    NORRISTOWN  15421\n",
      "4  UPPER MERION  14015\n"
     ]
    }
   ],
   "source": [
    "print(\"Top 4 Township calls\")\n",
    "print()\n",
    "print(top4twp)\n",
    "#Question 2: Which of the following township are not present? --LOWER POTTSGROVE, NORRISTOWN, HORSHAM, ABINGTON\n",
    "#Ans: LOWER POTTSGROVE and HORSHAM are not present as we're not able to find them in below DataFrame"
   ]
  },
  {
   "cell_type": "code",
   "execution_count": 8,
   "id": "b8940f3d",
   "metadata": {
    "scrolled": false
   },
   "outputs": [],
   "source": [
    "#Compute --Create new features \n",
    "calls['Reason']=calls['title'].apply(lambda vals:vals.split(':')[0])\n",
    "calls['Department']=calls['title'].apply(lambda vals:vals.split(':')[1])\n",
    "calls['Date']=calls['timeStamp'].apply(lambda vals:vals.split()[0])\n",
    "calls['Days']=calls['Date'].apply(lambda d:datetime(int(d.split('-')[0]),int(d.split('-')[1]),int(d.split('-')[2])).strftime('%A'))\n",
    "calls['Months']=calls['Date'].apply(lambda d:datetime(int(d.split('-')[0]),int(d.split('-')[1]),int(d.split('-')[2])).strftime('%B'))"
   ]
  },
  {
   "cell_type": "code",
   "execution_count": 10,
   "id": "00092492",
   "metadata": {},
   "outputs": [],
   "source": [
    "#Creating DataFrame for counts of Reasons\n",
    "count_reas=lambda vals:calls[calls.Reason==vals].shape[0]\n",
    "reasons=calls.Reason.unique()\n",
    "reason_count=pd.DataFrame(columns=('Reason','Count'))\n",
    "count_df(reasons,reason_count,count_reas)\n",
    "reason_count.sort_values(by='Count',ascending=False,inplace=True)"
   ]
  },
  {
   "cell_type": "code",
   "execution_count": 11,
   "id": "de835741",
   "metadata": {},
   "outputs": [
    {
     "name": "stdout",
     "output_type": "stream",
     "text": [
      "Count of Reasons\n",
      "\n",
      "    Reason   Count\n",
      "0      EMS  133234\n",
      "2  Traffic   93400\n",
      "1     Fire   39909\n"
     ]
    }
   ],
   "source": [
    "print('Count of Reasons')\n",
    "print()\n",
    "print(reason_count)\n",
    "#Question 3: What is the most common Reason for a 911 call based on Reason Column? Which comes second\n",
    "#Ans : Most Common reason is 'EMS'(133234) and second most reason is 'Traffic'(93400) as per the below DataFrame"
   ]
  },
  {
   "cell_type": "code",
   "execution_count": 12,
   "id": "b370feb5",
   "metadata": {},
   "outputs": [
    {
     "data": {
      "image/png": "[encoded data removed]",
      "text/plain": [
       "<Figure size 432x288 with 1 Axes>"
      ]
     },
     "metadata": {
      "needs_background": "light"
     },
     "output_type": "display_data"
    }
   ],
   "source": [
    "#Compute --Plot barchart using matplot for911 calls by Reason \n",
    "plt.bar(reason_count.Reason,reason_count.Count)\n",
    "plt.xlabel('Reason')\n",
    "plt.ylabel('Number of calls')\n",
    "plt.title('Number of calls for particular Reason')\n",
    "plt.savefig(\"ReasonCountBarPlot.png\")\n",
    "plt.show()"
   ]
  },
  {
   "cell_type": "code",
   "execution_count": 7,
   "id": "1c443d3c",
   "metadata": {},
   "outputs": [
    {
     "data": {
      "image/png": "[encoded data removed]",
      "text/plain": [
       "<Figure size 432x288 with 1 Axes>"
      ]
     },
     "metadata": {
      "needs_background": "light"
     },
     "output_type": "display_data"
    }
   ],
   "source": [
    "x=np.array([100,200,300,400])\n",
    "y=np.array([0.047197,0.053674,0.055753,0.058912])\n",
    "plt.plot(x,y)\n",
    "plt.xlabel('Number of Elements')\n",
    "plt.ylabel('Time Taken')\n",
    "plt.title('Time Complexity of Binary Search')\n",
    "plt.savefig(\"BinarySearchRes.png\")\n",
    "plt.show()"
   ]
  },
  {
   "cell_type": "code",
   "execution_count": 13,
   "id": "41607fe9",
   "metadata": {},
   "outputs": [
    {
     "data": {
      "image/png": "[encoded data removed]",
      "text/plain": [
       "<Figure size 432x288 with 1 Axes>"
      ]
     },
     "metadata": {
      "needs_background": "light"
     },
     "output_type": "display_data"
    }
   ],
   "source": [
    "#Question 4: How can you plot the bars horizontally?\n",
    "#Ans : Using Barh\n",
    "plt.barh(reason_count.Reason,reason_count.Count)\n",
    "plt.xlabel('Reason')\n",
    "plt.ylabel('Number of calls')\n",
    "plt.title('Number of calls for particular Reason')\n",
    "plt.savefig(\"ReasonCountBarhPlot.png\")\n",
    "plt.show()"
   ]
  },
  {
   "cell_type": "code",
   "execution_count": 14,
   "id": "4b0c57f0",
   "metadata": {},
   "outputs": [],
   "source": [
    "days_count=calls[calls.Reason=='EMS'].Days.value_counts()"
   ]
  },
  {
   "cell_type": "code",
   "execution_count": 15,
   "id": "e27fb141",
   "metadata": {},
   "outputs": [
    {
     "name": "stdout",
     "output_type": "stream",
     "text": [
      "Days count of EMS calls\n",
      "\n",
      "Friday       19938\n",
      "Tuesday      19575\n",
      "Wednesday    19422\n",
      "Monday       19389\n",
      "Thursday     19297\n",
      "Saturday     18229\n",
      "Sunday       17384\n",
      "Name: Days, dtype: int64\n"
     ]
    }
   ],
   "source": [
    "print(\"Days count of EMS calls\")\n",
    "print()\n",
    "print(days_count)\n",
    "#Question 5: Which day got maximum calls for EMS and how many?\n",
    "#Ans : Friday we got maximum EMS calls (19938)"
   ]
  },
  {
   "cell_type": "code",
   "execution_count": 16,
   "id": "386b8cb3",
   "metadata": {},
   "outputs": [
    {
     "data": {
      "image/png": "[encoded data removed]",
      "text/plain": [
       "<Figure size 1080x576 with 1 Axes>"
      ]
     },
     "metadata": {
      "needs_background": "light"
     },
     "output_type": "display_data"
    }
   ],
   "source": [
    "#Compute --Create a countplot of the Day of Week column with the hue based of the Reason column\n",
    "plt.figure(figsize=(15,8))\n",
    "ax=sns.countplot(x='Days',hue='Reason',data=calls)\n",
    "plt.savefig('CountplotDays.png')\n",
    "# Question 6: On which day traffic calls were lowest?\n",
    "#Ans: Sunday we got the lowest calls"
   ]
  },
  {
   "cell_type": "code",
   "execution_count": 17,
   "id": "7616d2fd",
   "metadata": {},
   "outputs": [],
   "source": [
    "#Creating Month wise count DataFrame of Fire Calls\n",
    "calls_fire=calls[calls.Reason=='Fire']\n",
    "months=calls_fire.Months.unique()\n",
    "month_count=lambda d:calls_fire[calls_fire.Months==d].shape[0]\n",
    "months_count=pd.DataFrame(columns=('Month','Count'))\n",
    "count_df(months,months_count,month_count)\n",
    "months_count.sort_values(by='Count',ascending=False,inplace=True)\n",
    "months_count.index=np.arange(1,13)"
   ]
  },
  {
   "cell_type": "code",
   "execution_count": 18,
   "id": "aa8ca0e7",
   "metadata": {},
   "outputs": [
    {
     "data": {
      "image/png": "[encoded data removed]",
      "text/plain": [
       "<Figure size 1080x576 with 1 Axes>"
      ]
     },
     "metadata": {
      "needs_background": "light"
     },
     "output_type": "display_data"
    }
   ],
   "source": [
    "#Compute --Create a countplot month wise\n",
    "plt.figure(figsize=(15,8))\n",
    "ax1=sns.countplot(x='Months',hue='Reason',data=calls)\n",
    "plt.savefig('CountplotMonth.png')\n",
    "#Question 7: Which month saw highest calls for fire?\n",
    "#Ans:June got the highest fire calls as per the below countPlot"
   ]
  },
  {
   "cell_type": "code",
   "execution_count": 19,
   "id": "0cd3894e",
   "metadata": {},
   "outputs": [
    {
     "name": "stdout",
     "output_type": "stream",
     "text": [
      "Months Count of Fire calls\n",
      "\n",
      "        Month Count\n",
      "1        June  3773\n",
      "2      August  3769\n",
      "3     October  3668\n",
      "4        July  3652\n",
      "5     January  3562\n",
      "6   September  3489\n",
      "7       April  3331\n",
      "8    February  3330\n",
      "9         May  3243\n",
      "10      March  3223\n",
      "11   December  2941\n",
      "12   November  1928\n"
     ]
    }
   ],
   "source": [
    "print(\"Months Count of Fire calls\")\n",
    "print()\n",
    "print(months_count)\n",
    "#Question 7: Which month saw highest calls for fire?\n",
    "#Ans:June got the highest fire calls(3773) as per the below dataframe"
   ]
  },
  {
   "cell_type": "code",
   "execution_count": 21,
   "id": "827eb7d0",
   "metadata": {},
   "outputs": [],
   "source": [
    "#Compute --Create Web Map for Traffic Calls \n",
    "lat=list(calls[calls.Reason=='Traffic'].lat)\n",
    "lng=list(calls[calls.Reason=='Traffic'].lng)"
   ]
  },
  {
   "cell_type": "code",
   "execution_count": 22,
   "id": "9c893e8d",
   "metadata": {},
   "outputs": [],
   "source": [
    "maps=fo.Map(location=[40.29,-75.58],zoom_start=3,tiles='OpenStreetMap')\n",
    "fgv=fo.FeatureGroup(name=\"Traffic Calls\")"
   ]
  },
  {
   "cell_type": "code",
   "execution_count": 23,
   "id": "0a88a977",
   "metadata": {},
   "outputs": [],
   "source": [
    "for lt,lg in zip(lat,lng):\n",
    "    fgv.add_child(fo.Marker(location=[lt,lg],popup=\"tc\",icon=fo.Icon(color='green')))"
   ]
  },
  {
   "cell_type": "code",
   "execution_count": null,
   "id": "4ec3e740",
   "metadata": {},
   "outputs": [],
   "source": [
    "maps.add_child(fgv)\n",
    "maps.save(\"Map.html\")\n",
    "#Question 8: Why some areas seem to have lower or almost zero traffic calls?\n",
    "#Ans:If i observe the map and say, places near airport has least traffic"
   ]
  }
 ],
 "metadata": {
  "kernelspec": {
   "display_name": "Python 3 (ipykernel)",
   "language": "python",
   "name": "python3"
  },
  "language_info": {
   "codemirror_mode": {
    "name": "ipython",
    "version": 3
   },
   "file_extension": ".py",
   "mimetype": "text/x-python",
   "name": "python",
   "nbconvert_exporter": "python",
   "pygments_lexer": "ipython3",
   "version": "3.9.5"
  },
  "vscode": {
   "interpreter": {
    "hash": "aee8b7b246df8f9039afb4144a1f6fd8d2ca17a180786b69acc140d282b71a49"
   }
  }
 },
 "nbformat": 4,
 "nbformat_minor": 5
}
